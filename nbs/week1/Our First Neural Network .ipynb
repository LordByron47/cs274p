{
 "cells": [
  {
   "cell_type": "markdown",
   "metadata": {
    "colab_type": "text",
    "id": "2jpOe_1194Xk"
   },
   "source": [
    "# Lets build out first Deep Neural Network"
   ]
  },
  {
   "cell_type": "markdown",
   "metadata": {
    "colab_type": "text",
    "id": "EFCIl7Qn94Xl"
   },
   "source": [
    "All dependencies for this notebook is listed in the requirements.txt file. One parent above the nbs directory. This list will keep changing as we add to it so be sure to rerun this line after every git pull"
   ]
  },
  {
   "cell_type": "code",
   "execution_count": 0,
   "metadata": {
    "colab": {},
    "colab_type": "code",
    "id": "EkNcj5Dy-Bld"
   },
   "outputs": [],
   "source": [
    "from google.colab import drive\n",
    "drive.mount('/content/gdrive')"
   ]
  },
  {
   "cell_type": "code",
   "execution_count": 0,
   "metadata": {
    "colab": {},
    "colab_type": "code",
    "id": "O_VbeYWk-VXV"
   },
   "outputs": [],
   "source": [
    "%cd gdrive/My Drive/UCI/cs274p"
   ]
  },
  {
   "cell_type": "code",
   "execution_count": 0,
   "metadata": {
    "colab": {},
    "colab_type": "code",
    "id": "MHDuZ96A94Xm"
   },
   "outputs": [],
   "source": [
    "!pip install -r requirements.txt"
   ]
  },
  {
   "cell_type": "markdown",
   "metadata": {
    "colab_type": "text",
    "id": "NYsmga0r94Xq"
   },
   "source": [
    "Lets declare our imports"
   ]
  },
  {
   "cell_type": "code",
   "execution_count": 0,
   "metadata": {
    "colab": {},
    "colab_type": "code",
    "id": "SPt2n3EJ94Xr"
   },
   "outputs": [],
   "source": [
    "import numpy as np\n",
    "import torch\n",
    "from torch import nn\n",
    "import math\n",
    "from pprint import pprint\n",
    "from tqdm.notebook import tqdm"
   ]
  },
  {
   "cell_type": "code",
   "execution_count": 0,
   "metadata": {
    "colab": {},
    "colab_type": "code",
    "id": "C76sD6t-94Xu"
   },
   "outputs": [],
   "source": [
    "! pip install -q kaggle"
   ]
  },
  {
   "cell_type": "code",
   "execution_count": 0,
   "metadata": {
    "colab": {},
    "colab_type": "code",
    "id": "QdmaadJ094Xx"
   },
   "outputs": [],
   "source": [
    "from google.colab import files"
   ]
  },
  {
   "cell_type": "code",
   "execution_count": 0,
   "metadata": {
    "colab": {},
    "colab_type": "code",
    "id": "hE4fvse094X0"
   },
   "outputs": [],
   "source": [
    "files.upload()"
   ]
  },
  {
   "cell_type": "code",
   "execution_count": 0,
   "metadata": {
    "colab": {},
    "colab_type": "code",
    "id": "7GVHk6JX94X3"
   },
   "outputs": [],
   "source": [
    "! mkdir ~/.kaggle"
   ]
  },
  {
   "cell_type": "code",
   "execution_count": 0,
   "metadata": {
    "colab": {},
    "colab_type": "code",
    "id": "9-R8tCBc94X7"
   },
   "outputs": [],
   "source": [
    "! cp kaggle.json ~/.kaggle/"
   ]
  },
  {
   "cell_type": "code",
   "execution_count": 0,
   "metadata": {
    "colab": {},
    "colab_type": "code",
    "id": "ZCJROWVE94X-"
   },
   "outputs": [],
   "source": [
    "! chmod 600 ~/.kaggle/kaggle.json"
   ]
  },
  {
   "cell_type": "code",
   "execution_count": 0,
   "metadata": {
    "colab": {},
    "colab_type": "code",
    "id": "cyy4yB2F94YB"
   },
   "outputs": [],
   "source": [
    "! kaggle datasets list"
   ]
  },
  {
   "cell_type": "code",
   "execution_count": 0,
   "metadata": {
    "colab": {},
    "colab_type": "code",
    "id": "KDkldQFG94YD"
   },
   "outputs": [],
   "source": [
    "! kaggle datasets download -d ronitf/heart-disease-uci"
   ]
  },
  {
   "cell_type": "code",
   "execution_count": 0,
   "metadata": {
    "colab": {},
    "colab_type": "code",
    "id": "82Pn3kkt94YH"
   },
   "outputs": [],
   "source": [
    "class MyFirstNeuralNetwork(torch.nn.Module):\n",
    "    def __init__(self, in_size=2, out_size=2, hidden_size=3):\n",
    "\n",
    "        super(MyFirstNeuralNetwork, self).__init__()\n",
    "\n",
    "        # Set the dimensionality of the network\n",
    "        self.input_size = in_size\n",
    "        self.output_size = out_size\n",
    "        self.hidden_size = hidden_size\n",
    "        self.learning_rate = 0.5\n",
    "\n",
    "        # Initialize our weights\n",
    "        self._init_weights()\n",
    "\n",
    "    '''\n",
    "    Initialize the weights\n",
    "    '''\n",
    "    def _init_weights(self):\n",
    "        # Create an input tensor of shape (in_size, hidden_size)\n",
    "        self.W_Input = torch.randn(self.input_size, self.hidden_size) / math.sqrt(self.input_size)\n",
    "        # Create an output tensor of shape (3, 1)\n",
    "        self.W_Output = torch.randn(self.hidden_size, self.output_size) / math.sqrt(self.hidden_size)\n",
    "\n",
    "        self.bias_in = torch.randn(self.input_size)\n",
    "        self.bias_hidden = torch.randn(self.hidden_size)\n",
    "        \n",
    "    '''\n",
    "    Create the forward pass\n",
    "    '''\n",
    "    def forward(self, inputs):\n",
    "        # Lets get the element wise dot product\n",
    "        self.z = torch.matmul(inputs, self.W_Input) + self.bias_in\n",
    "        # We call the activation\n",
    "        self.state = self._activation(self.z)\n",
    "        # Pass it through the hidden layer\n",
    "        self.z_hidden = torch.matmul(self.state, self.W_Output) + self.hidden_bias\n",
    "        # Finally activate the output\n",
    "        output = self._activation(self.z_hidden)\n",
    "        # Return the output\n",
    "        return output\n",
    "\n",
    "    '''\n",
    "    Backpropagation algorithm implemented\n",
    "    '''\n",
    "    def backward(self, inputs, labels, output):\n",
    "        # What is the error in output\n",
    "        self.loss = labels - output\n",
    "        # What is the delta loss based on the derivative\n",
    "        self.loss_delta = self.learning_rate * self.loss * self._derivative(output)\n",
    "        # Get the loss for the existing output weight\n",
    "        self.z_loss = torch.matmul(self.loss_delta, torch.t(self.W_Output))\n",
    "        # Compute the delta like before\n",
    "        self.z_loss_delta = self.learning_rate * self.z_loss * self._derivative(self.state)\n",
    "        # Finally propogate this to our existing weight tensors to update\n",
    "        # the gradient loss\n",
    "        self.W_Input += torch.matmul(torch.t(inputs), self.z_loss_delta)\n",
    "        self.W_Output += torch.matmul(torch.t(self.state), self.loss_delta)\n",
    "\n",
    "    '''\n",
    "    Here we train the network\n",
    "    '''\n",
    "    def train(self, inputs, labels):\n",
    "        # First we do the foward pass\n",
    "        outputs = self.forward(inputs)\n",
    "        # Then we do the backwards pass\n",
    "        self.backward(inputs, labels, outputs)\n",
    "\n",
    "    '''\n",
    "    Here we perform inference\n",
    "    '''\n",
    "    def predict(self, inputs):\n",
    "        pass\n",
    "\n",
    "    '''\n",
    "    Here we save the model\n",
    "    '''\n",
    "    def save(self, out_path):\n",
    "        self.save(out_path)\n",
    "    \n",
    "    '''\n",
    "    Our non-linear activation function\n",
    "    '''\n",
    "    def _activation(self, s):\n",
    "        # Lets use sigmoid\n",
    "        return 1 / (1 + torch.exp(-s))\n",
    "\n",
    "    '''\n",
    "    Our derivative function used for backpropagation\n",
    "    Usually the sigmoid prime\n",
    "    '''\n",
    "    def _derivative(self, s):\n",
    "        # derivative of sigmoid\n",
    "        return s * (1 - s)"
   ]
  },
  {
   "cell_type": "code",
   "execution_count": 0,
   "metadata": {
    "colab": {},
    "colab_type": "code",
    "id": "obdcUZcY94YL"
   },
   "outputs": [],
   "source": [
    "import pandas as pd\n",
    "df = pd.read_csv('data/heart.csv')"
   ]
  },
  {
   "cell_type": "code",
   "execution_count": 0,
   "metadata": {
    "colab": {},
    "colab_type": "code",
    "id": "t1z0p34B94YO"
   },
   "outputs": [],
   "source": [
    "df.head(20)"
   ]
  },
  {
   "cell_type": "code",
   "execution_count": 0,
   "metadata": {
    "colab": {},
    "colab_type": "code",
    "id": "FJ2Z7u2T94YQ"
   },
   "outputs": [],
   "source": [
    "from sklearn.model_selection import train_test_split\n",
    "from sklearn.preprocessing import MinMaxScaler\n",
    "from sklearn.metrics import accuracy_score\n",
    "sc = MinMaxScaler((-1, 1))"
   ]
  },
  {
   "cell_type": "markdown",
   "metadata": {
    "colab_type": "text",
    "id": "YiZLzopU94YT"
   },
   "source": [
    "Lets split out dataset between inputs and target"
   ]
  },
  {
   "cell_type": "code",
   "execution_count": 0,
   "metadata": {
    "colab": {},
    "colab_type": "code",
    "id": "shVcxAkp94YU"
   },
   "outputs": [],
   "source": [
    "df.shape\n",
    "y = df['target']\n",
    "X = df.drop('target', axis=1)"
   ]
  },
  {
   "cell_type": "markdown",
   "metadata": {
    "colab_type": "text",
    "id": "tsfHEQJ_94YW"
   },
   "source": [
    "Lets create a test and train split"
   ]
  },
  {
   "cell_type": "code",
   "execution_count": 0,
   "metadata": {
    "colab": {},
    "colab_type": "code",
    "id": "B_1G1Rxy94YX"
   },
   "outputs": [],
   "source": [
    "X_train, X_test, y_train, y_test = train_test_split(X, y, test_size=0.25)"
   ]
  },
  {
   "cell_type": "markdown",
   "metadata": {
    "colab_type": "text",
    "id": "2fDmfeEc94Ya"
   },
   "source": [
    "Here we transform features by scaling each feature to a given range.\n",
    "This estimator scales and translates each feature individually such that it is in the given range on the training set, e.g. between zero and one."
   ]
  },
  {
   "cell_type": "code",
   "execution_count": 0,
   "metadata": {
    "colab": {},
    "colab_type": "code",
    "id": "Eq5PC0p694Yb"
   },
   "outputs": [],
   "source": [
    "X_train = sc.fit_transform(X_train)"
   ]
  },
  {
   "cell_type": "code",
   "execution_count": 0,
   "metadata": {
    "colab": {},
    "colab_type": "code",
    "id": "z0zpTKWt94Ye"
   },
   "outputs": [],
   "source": [
    "X_train = torch.tensor(X_train, dtype=torch.float)"
   ]
  },
  {
   "cell_type": "code",
   "execution_count": 0,
   "metadata": {
    "colab": {},
    "colab_type": "code",
    "id": "mwU9gInv94Yg"
   },
   "outputs": [],
   "source": [
    "y_train = torch.tensor((y_train.values,))\n",
    "y_train = y_train.transpose(0,1)"
   ]
  },
  {
   "cell_type": "code",
   "execution_count": 0,
   "metadata": {
    "colab": {},
    "colab_type": "code",
    "id": "1Y4S9Uw_94Yl"
   },
   "outputs": [],
   "source": [
    "print(X_train.shape, y_train.shape)"
   ]
  },
  {
   "cell_type": "markdown",
   "metadata": {
    "colab_type": "text",
    "id": "I6iH99lj94Yn"
   },
   "source": [
    "Now we instantiate our neural network"
   ]
  },
  {
   "cell_type": "code",
   "execution_count": 0,
   "metadata": {
    "colab": {},
    "colab_type": "code",
    "id": "tR3jzq2G94Yo"
   },
   "outputs": [],
   "source": [
    "nn = MyFirstNeuralNetwork(in_size=X_train.shape[1], out_size=1)"
   ]
  },
  {
   "cell_type": "markdown",
   "metadata": {
    "colab_type": "text",
    "id": "mUL4AViV94Yq"
   },
   "source": [
    "We train our neural network with 1000 epochs (training loops) and we measure the loss"
   ]
  },
  {
   "cell_type": "code",
   "execution_count": 0,
   "metadata": {
    "colab": {},
    "colab_type": "code",
    "id": "iWMP2eNm94Yr"
   },
   "outputs": [],
   "source": [
    "for i in tqdm(range(50)):\n",
    "    outputs = nn(X_train)\n",
    "    loss = torch.mean((y_train - outputs)**2).detach().item()\n",
    "    tqdm.write(\"Loss: {}\".format(loss))\n",
    "    nn.train(X_train, y_train)"
   ]
  },
  {
   "cell_type": "markdown",
   "metadata": {
    "colab_type": "text",
    "id": "7u8l3TjF94Yt"
   },
   "source": [
    "# Excercises"
   ]
  },
  {
   "cell_type": "markdown",
   "metadata": {
    "colab_type": "text",
    "id": "rtrpAPez94Yu"
   },
   "source": [
    "1. Try to initialize the weights with something better. Hint (Xavier Initialization)\n",
    "2. Add a bias to the forward pass. Recall the affine transform is (inputs . weights) + bias\n",
    "3. We are missing a learning rate to the backwards pass. See if you can add that in"
   ]
  },
  {
   "cell_type": "markdown",
   "metadata": {
    "colab_type": "text",
    "id": "iZDjlLnr94Yv"
   },
   "source": [
    "# How would we rewrite this code using PyTorch built-in methods"
   ]
  },
  {
   "cell_type": "markdown",
   "metadata": {
    "colab_type": "text",
    "id": "Nps6aj9z94Yv"
   },
   "source": [
    "PyTorch gives us most of this functionality out of the box. First we can flag all Tensors to use Autograd. You can read more about autograd here: https://pytorch.org/docs/stable/autograd.html"
   ]
  },
  {
   "cell_type": "code",
   "execution_count": 0,
   "metadata": {
    "colab": {},
    "colab_type": "code",
    "id": "S1Ggg9oP94Yw"
   },
   "outputs": [],
   "source": [
    "X = df.drop('thalach', axis=1)\n",
    "X_train, X_test, y_train, y_test = train_test_split(X, y, test_size=0.25)\n",
    "# Populate the best\n",
    "X_train = torch.tensor(sc.fit_transform(X_train), dtype=torch.float, requires_grad=True)\n",
    "X_test = torch.tensor(sc.transform(X_test), dtype=torch.float)\n",
    "\n",
    "y_train = torch.tensor(y_train.values)\n",
    "y_test = torch.tensor(y_test.values)"
   ]
  },
  {
   "cell_type": "markdown",
   "metadata": {
    "colab_type": "text",
    "id": "V7j3SmwP94Yy"
   },
   "source": [
    "This is the first way using the torch.nn.Sequential. In the Sequential model modules will be added to it in the order they are passed in the constructor. This is a quick way to write a small neural network"
   ]
  },
  {
   "cell_type": "code",
   "execution_count": 0,
   "metadata": {
    "colab": {},
    "colab_type": "code",
    "id": "kXdSH1bA94Yz"
   },
   "outputs": [],
   "source": [
    "import torch.nn as nn\n",
    "from collections import OrderedDict\n",
    "\n",
    "model = torch.nn.Sequential(OrderedDict([\n",
    "    ('fc1', nn.Linear(13, 100)),\n",
    "    ('relu1', nn.ReLU()),\n",
    "    ('fc2', nn.Linear(100, 100)),\n",
    "    ('relu2', nn.ReLU()),\n",
    "    ('fc3', nn.Linear(100, 2)),\n",
    "    ('sigmoid', nn.Sigmoid())\n",
    "]))"
   ]
  },
  {
   "cell_type": "markdown",
   "metadata": {
    "colab_type": "text",
    "id": "5wpOpP-F_8lb"
   },
   "source": [
    "What does the architecture of this model look like"
   ]
  },
  {
   "cell_type": "code",
   "execution_count": 0,
   "metadata": {
    "colab": {},
    "colab_type": "code",
    "id": "j5Gst-XK_v4F"
   },
   "outputs": [],
   "source": [
    "print(model)"
   ]
  },
  {
   "cell_type": "markdown",
   "metadata": {
    "colab_type": "text",
    "id": "e-ihiagV94Y1"
   },
   "source": [
    "Lets register an optimizer and an objective function"
   ]
  },
  {
   "cell_type": "code",
   "execution_count": 0,
   "metadata": {
    "colab": {},
    "colab_type": "code",
    "id": "5sUg844j94Y2"
   },
   "outputs": [],
   "source": [
    "optimizer = torch.optim.Adam(model.parameters())\n",
    "criterion = nn.CrossEntropyLoss()\n",
    "losses = []"
   ]
  },
  {
   "cell_type": "code",
   "execution_count": 0,
   "metadata": {
    "colab": {},
    "colab_type": "code",
    "id": "lxKib_mq94Y4"
   },
   "outputs": [],
   "source": [
    "for epoch in tqdm(range(1000)):\n",
    "    optimizer.zero_grad()\n",
    "    outputs = model(X_train)\n",
    "    loss = criterion(outputs, y_train)\n",
    "    loss.backward()\n",
    "    optimizer.step()\n",
    "    losses.append(loss.item())\n",
    "    print(\"Epoch {}, Loss: {}\".format(epoch, loss.item()))"
   ]
  },
  {
   "cell_type": "code",
   "execution_count": 0,
   "metadata": {
    "colab": {},
    "colab_type": "code",
    "id": "aOEp87X794Y7"
   },
   "outputs": [],
   "source": [
    "prediction = model(X_test)\n",
    "_, preds_y = torch.max(prediction, 1)"
   ]
  },
  {
   "cell_type": "code",
   "execution_count": 0,
   "metadata": {
    "colab": {},
    "colab_type": "code",
    "id": "Cov66vFd94Y9"
   },
   "outputs": [],
   "source": [
    "accuracy_score(y_test, preds_y)"
   ]
  },
  {
   "cell_type": "code",
   "execution_count": 0,
   "metadata": {
    "colab": {},
    "colab_type": "code",
    "id": "hDMPJ8PQ94Y_"
   },
   "outputs": [],
   "source": [
    "import matplotlib.pyplot as plt\n",
    "plt.plot(losses, label=\"Loss Curve\")\n",
    "plt.legend()\n",
    "plt.show()"
   ]
  },
  {
   "cell_type": "code",
   "execution_count": 0,
   "metadata": {
    "colab": {},
    "colab_type": "code",
    "id": "rBOSzAdB94ZE"
   },
   "outputs": [],
   "source": [
    "losses_no_back = []\n",
    "for epoch in tqdm(range(1000)):\n",
    "    optimizer.zero_grad()\n",
    "    outputs = model(X_train)\n",
    "    loss = criterion(outputs, y_train)\n",
    "    optimizer.step()\n",
    "    losses_no_back.append(loss.item())\n",
    "    print(\"Epoch {}, Loss: {}\".format(epoch, loss.item()))"
   ]
  },
  {
   "cell_type": "code",
   "execution_count": 0,
   "metadata": {
    "colab": {},
    "colab_type": "code",
    "id": "oNj8WlIV94ZH"
   },
   "outputs": [],
   "source": [
    "import matplotlib.pyplot as plt\n",
    "plt.plot(losses_no_back, label=\"Loss Curve\")\n",
    "plt.legend()\n",
    "plt.show()"
   ]
  },
  {
   "cell_type": "markdown",
   "metadata": {
    "colab_type": "text",
    "id": "DeUwKUK094ZJ"
   },
   "source": [
    "# A Better way to Torch with Py"
   ]
  },
  {
   "cell_type": "markdown",
   "metadata": {
    "colab_type": "text",
    "id": "N-IwO-Ap94ZK"
   },
   "source": [
    "We looked at the torch.nn.Module before. Inherting from this class gives us:\n",
    "\n",
    "1. More flexibility on how we build our layers\n",
    "2. Encapsulate our logic into one object\n",
    "3. Easily swap out optimization functions\n",
    "4. Easilty swap out cost functions"
   ]
  },
  {
   "cell_type": "code",
   "execution_count": 0,
   "metadata": {
    "colab": {},
    "colab_type": "code",
    "id": "-Mu9Bzl-94ZK"
   },
   "outputs": [],
   "source": [
    "class DeepNeuralNetwork(nn.Module):\n",
    "    def __init__(self, in_size, out_size, hidden_size, layer_depth=4, activation=nn.ReLU):\n",
    "        super(DeepNeuralNetwork, self).__init__()\n",
    "        \n",
    "        self.activation = activation()\n",
    "        self.in_size = in_size\n",
    "        self.out_size = out_size\n",
    "        \n",
    "        self.fc1 = nn.Linear(in_size, hidden_size)\n",
    "        self.fcn = nn.ModuleDict({})\n",
    "        \n",
    "        for l in range(layer_depth):\n",
    "            name = 'fc'+str(1+l)\n",
    "            self.fcn[name] = nn.Linear(hidden_size, hidden_size)\n",
    "        \n",
    "        self.out = nn.Linear(hidden_size, out_size)\n",
    "        \n",
    "        self.optimizer = torch.optim.Adam(self.parameters())\n",
    "        self.criterion = nn.CrossEntropyLoss()\n",
    "        self.loss_tracker = []\n",
    "    \n",
    "    def add_layer(index, layer):\n",
    "        pass\n",
    "    \n",
    "    def forward(self, x):\n",
    "        x = self.activation(self.fc1(x))\n",
    "        for k, l in self.fcn.items():\n",
    "            x = self.activation(x)\n",
    "        x = self.out(x)\n",
    "        return x\n",
    "    \n",
    "    def train(self, inputs, labels, test_inputs=None, test_labels=None, epochs=10) -> None:\n",
    "        for epoch in tqdm(range(epochs)):\n",
    "            self.optimizer.zero_grad()\n",
    "            outputs = self(X_train)\n",
    "            loss = self.criterion(outputs, y_train)\n",
    "            loss.backward()\n",
    "            self.optimizer.step()\n",
    "            self.loss_tracker.append(loss.item())\n",
    "            acc = self.accuracy(test_inputs, test_labels)\n",
    "            tqdm.write(\"Epoch {}, Loss: {} Acc: {}\".format(epoch, loss.item(), acc))\n",
    "\n",
    "    def accuracy(self, test_inputs, test_labels):\n",
    "        _, preds_y = torch.max(self(test_inputs), 1)\n",
    "        return accuracy_score(test_labels, preds_y)\n",
    "    \n",
    "    def show_loss(self):\n",
    "        import matplotlib.pyplot as plt\n",
    "        plt.plot(self.loss_tracker, label=\"Loss Curve\")\n",
    "        plt.legend()\n",
    "        plt.show()\n",
    "        \n",
    "    def predict(self, inputs):\n",
    "        \"\"\"\n",
    "        Sets the model to evaluation/inference mode, disabling dropout and\n",
    "        gradient calculation.\n",
    "        \"\"\"\n",
    "        self.eval()\n",
    "        return self(inputs)\n",
    "    \n",
    "    def summary(self):\n",
    "        from torchsummary import summary\n",
    "        summary(self, (1, 1, self.in_size)) "
   ]
  },
  {
   "cell_type": "markdown",
   "metadata": {
    "colab_type": "text",
    "id": "ldB5Erj194ZN"
   },
   "source": [
    "We create a new instance of the Module we just created"
   ]
  },
  {
   "cell_type": "code",
   "execution_count": 0,
   "metadata": {
    "colab": {},
    "colab_type": "code",
    "id": "eW4ABg-w94ZO"
   },
   "outputs": [],
   "source": [
    "model = DeepNeuralNetwork(13, 2, 100)"
   ]
  },
  {
   "cell_type": "markdown",
   "metadata": {
    "colab_type": "text",
    "id": "nG-q73mB94ZV"
   },
   "source": [
    "Lets look at what the model summary or architecture looks like. \n",
    "We will go into much more depth when look at TensorboardX"
   ]
  },
  {
   "cell_type": "code",
   "execution_count": 0,
   "metadata": {
    "colab": {},
    "colab_type": "code",
    "id": "xq1BRu-F94ZW"
   },
   "outputs": [],
   "source": [
    "model.summary()"
   ]
  },
  {
   "cell_type": "markdown",
   "metadata": {
    "colab_type": "text",
    "id": "1EnOqZcw94ZY"
   },
   "source": [
    "Lets go ahead and train the model"
   ]
  },
  {
   "cell_type": "code",
   "execution_count": 0,
   "metadata": {
    "colab": {},
    "colab_type": "code",
    "id": "kL3cxgI894ZZ"
   },
   "outputs": [],
   "source": [
    "model.train(X_train, y_train, X_test, y_test, epochs=1000)"
   ]
  },
  {
   "cell_type": "markdown",
   "metadata": {
    "colab_type": "text",
    "id": "uzVsUSiK94Zc"
   },
   "source": [
    "Lets get the model accuracy"
   ]
  },
  {
   "cell_type": "code",
   "execution_count": 0,
   "metadata": {
    "colab": {},
    "colab_type": "code",
    "id": "BsBY3eN094Zc"
   },
   "outputs": [],
   "source": [
    "model.accuracy(X_test, y_test)"
   ]
  },
  {
   "cell_type": "markdown",
   "metadata": {
    "colab_type": "text",
    "id": "5oCcMWjz94Zf"
   },
   "source": [
    "What does the loss curve look like"
   ]
  },
  {
   "cell_type": "code",
   "execution_count": 0,
   "metadata": {
    "colab": {},
    "colab_type": "code",
    "id": "3cNCOLCg94Zg"
   },
   "outputs": [],
   "source": [
    "model.show_loss()"
   ]
  },
  {
   "cell_type": "markdown",
   "metadata": {
    "colab_type": "text",
    "id": "IxlSsLjG94Zj"
   },
   "source": [
    "Lets print out the model summary one more time to see if anything has changed"
   ]
  },
  {
   "cell_type": "code",
   "execution_count": 0,
   "metadata": {
    "colab": {},
    "colab_type": "code",
    "id": "m9vahSeq94Zj"
   },
   "outputs": [],
   "source": [
    "model.summary()"
   ]
  },
  {
   "cell_type": "markdown",
   "metadata": {
    "colab_type": "text",
    "id": "SojMJrrd94Zm"
   },
   "source": [
    "The model architecture we built above is sufficient for many problems. \n",
    "But lets look at a SOTA model and see how complex it can become"
   ]
  },
  {
   "cell_type": "code",
   "execution_count": 0,
   "metadata": {
    "colab": {},
    "colab_type": "code",
    "id": "PJQ7NC8n94Zm"
   },
   "outputs": [],
   "source": [
    "from PIL import Image\n",
    "from IPython.display import display\n",
    "img = Image.open('images/inception_v4.jpeg')\n",
    "display(img)"
   ]
  },
  {
   "cell_type": "markdown",
   "metadata": {
    "colab_type": "text",
    "id": "WW5xfMS894Zp"
   },
   "source": [
    "# Excercises"
   ]
  },
  {
   "cell_type": "markdown",
   "metadata": {
    "colab_type": "text",
    "id": "oswqES2m94Zp"
   },
   "source": [
    "1. Try to implement early stopping\n",
    "2. Implement a different activation function. What worked, what didn't\n",
    "3. Implement a different loss function. What worked and what didn't\n",
    "4. Introduce a different dataset and see if you can use the above model to build an accurate model"
   ]
  },
  {
   "cell_type": "markdown",
   "metadata": {
    "colab_type": "text",
    "id": "IqsXq2tY94Zq"
   },
   "source": [
    "# References"
   ]
  },
  {
   "cell_type": "markdown",
   "metadata": {
    "colab_type": "text",
    "id": "cT12FzRU94Zr"
   },
   "source": [
    "https://arxiv.org/pdf/1602.07261.pdf"
   ]
  },
  {
   "cell_type": "markdown",
   "metadata": {
    "colab_type": "text",
    "id": "Y95ijBMf94Zr"
   },
   "source": [
    "https://pytorch.org/docs/stable/nn.html"
   ]
  }
 ],
 "metadata": {
  "colab": {
   "collapsed_sections": [
    "7u8l3TjF94Yt"
   ],
   "name": "Our First Neural Network .ipynb",
   "provenance": []
  },
  "kernelspec": {
   "display_name": "Python 3",
   "language": "python",
   "name": "python3"
  },
  "language_info": {
   "codemirror_mode": {
    "name": "ipython",
    "version": 3
   },
   "file_extension": ".py",
   "mimetype": "text/x-python",
   "name": "python",
   "nbconvert_exporter": "python",
   "pygments_lexer": "ipython3",
   "version": "3.7.5"
  }
 },
 "nbformat": 4,
 "nbformat_minor": 1
}
